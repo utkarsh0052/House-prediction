{
  "nbformat": 4,
  "nbformat_minor": 0,
  "metadata": {
    "colab": {
      "name": "Utkarsh.ipynb",
      "provenance": [],
      "authorship_tag": "ABX9TyMONbzt74yPFHimgRJcTNtr",
      "include_colab_link": true
    },
    "kernelspec": {
      "name": "python3",
      "display_name": "Python 3"
    },
    "language_info": {
      "name": "python"
    }
  },
  "cells": [
    {
      "cell_type": "markdown",
      "metadata": {
        "id": "view-in-github",
        "colab_type": "text"
      },
      "source": [
        "<a href=\"https://colab.research.google.com/github/utkarsh0052/House-prediction/blob/main/Calci.ipynb\" target=\"_parent\"><img src=\"https://colab.research.google.com/assets/colab-badge.svg\" alt=\"Open In Colab\"/></a>"
      ]
    },
    {
      "cell_type": "markdown",
      "metadata": {
        "id": "xdmZrNO4PoY5"
      },
      "source": [
        "Write a program to make a calculator which perform operations like Addition , Subtraction , Multiplication etc on Two numbers input by the user.\n",
        "\n",
        "\n"
      ]
    },
    {
      "cell_type": "markdown",
      "metadata": {
        "id": "KKGpV09UPl6c"
      },
      "source": [
        ""
      ]
    },
    {
      "cell_type": "code",
      "metadata": {
        "colab": {
          "base_uri": "https://localhost:8080/"
        },
        "id": "OoRkwa6zPfFX",
        "outputId": "2e5f5f88-2402-493e-b4b1-fbc6f998d725"
      },
      "source": [
        "num1 = int(input(\"Enter First Number: \"))\n",
        "num2 = int(input(\"Enter Second Number: \"))\n",
        "\n",
        "print(\"Enter which operation would you like to perform?\")\n",
        "ch = input(\"Enter any of these char for specific operation +,-,*,/: \")\n",
        "\n",
        "result = 0\n",
        "if ch == '+':\n",
        "    result = num1 + num2\n",
        "elif ch == '-':\n",
        "    result = num1 - num2\n",
        "elif ch == '*':\n",
        "    result = num1 * num2\n",
        "elif ch == '/':\n",
        "    result = num1 / num2\n",
        "else:\n",
        "    print(\"Input character is not recognized!\")\n",
        "\n",
        "print(num1, ch , num2, \":\", result)"
      ],
      "execution_count": 6,
      "outputs": [
        {
          "output_type": "stream",
          "text": [
            "Enter First Number: 2\n",
            "Enter Second Number: 4\n",
            "Enter which operation would you like to perform?\n",
            "Enter any of these char for specific operation +,-,*,/: +\n",
            "2 + 4 : 6\n"
          ],
          "name": "stdout"
        }
      ]
    }
  ]
}